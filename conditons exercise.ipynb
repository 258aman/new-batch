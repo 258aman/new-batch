{
 "cells": [
  {
   "cell_type": "code",
   "execution_count": 6,
   "metadata": {},
   "outputs": [
    {
     "name": "stdout",
     "output_type": "stream",
     "text": [
      "password not matched🤬\n"
     ]
    }
   ],
   "source": [
    "name =input('enter the username')\n",
    "email = input('Enter the email')\n",
    "ps=input('enter the password')\n",
    "ps2=input('enter the password again')\n",
    "if len(name)>=4 and len(name)<=15:\n",
    "    if'@' in email and email.islower() and len(email)>10:\n",
    "        if len(ps)>=6 and ps!=name:\n",
    "            if ps==ps2:\n",
    "                print('Hurray:')\n",
    "            else:\n",
    "                print('password not matched🤬')\n",
    "        else:\n",
    "            print('invalid password😣')\n",
    "    else:\n",
    "        print('invalid email😒')        \n",
    "else:\n",
    "    print('invalid name😛')\n",
    "\n"
   ]
  },
  {
   "cell_type": "code",
   "execution_count": 9,
   "metadata": {},
   "outputs": [
    {
     "name": "stdout",
     "output_type": "stream",
     "text": [
      "i will stay to home\n"
     ]
    }
   ],
   "source": [
    "# wap to check \n",
    "temperature = -25\n",
    "weather='thandi'\n",
    "if weather== 'sunny':\n",
    "    print('i ll go to the beach')\n",
    "    if temperature>30:\n",
    "        print('i will go to the park')\n",
    "    else:\n",
    "        print('i will go to the park')\n",
    "else:\n",
    "    print('i will stay to home')\n"
   ]
  },
  {
   "cell_type": "code",
   "execution_count": null,
   "metadata": {},
   "outputs": [],
   "source": [
    "vehicle=input('enter the vehicle') \n"
   ]
  },
  {
   "cell_type": "code",
   "execution_count": null,
   "metadata": {},
   "outputs": [],
   "source": [
    "   "
   ]
  }
 ],
 "metadata": {
  "kernelspec": {
   "display_name": "Python 3",
   "language": "python",
   "name": "python3"
  },
  "language_info": {
   "codemirror_mode": {
    "name": "ipython",
    "version": 3
   },
   "file_extension": ".py",
   "mimetype": "text/x-python",
   "name": "python",
   "nbconvert_exporter": "python",
   "pygments_lexer": "ipython3",
   "version": "3.10.10"
  },
  "orig_nbformat": 4
 },
 "nbformat": 4,
 "nbformat_minor": 2
}
