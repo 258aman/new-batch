{
 "cells": [
  {
   "cell_type": "code",
   "execution_count": 4,
   "metadata": {},
   "outputs": [
    {
     "name": "stdout",
     "output_type": "stream",
     "text": [
      "{'name': 'john cena', 'class': '2nd', 'roll no': 21, 'marks': 90}\n"
     ]
    }
   ],
   "source": [
    "students={'name' : 'john cena',\n",
    "           'class'  :'2nd',\n",
    "           'roll no' : 21,\n",
    "           'marks' : 90 }\n",
    "print(students)"
   ]
  },
  {
   "cell_type": "code",
   "execution_count": 5,
   "metadata": {},
   "outputs": [
    {
     "name": "stdout",
     "output_type": "stream",
     "text": [
      "john cena\n",
      "2nd\n"
     ]
    }
   ],
   "source": [
    "# 1st method\n",
    "print(students['name'])\n",
    "print(students['class'])"
   ]
  },
  {
   "cell_type": "code",
   "execution_count": 6,
   "metadata": {},
   "outputs": [
    {
     "name": "stdout",
     "output_type": "stream",
     "text": [
      "john cena\n",
      "2nd\n"
     ]
    }
   ],
   "source": [
    "# 2nd method\n",
    "print(students.get('name'))\n",
    "print(students.get('class'))\n"
   ]
  },
  {
   "cell_type": "code",
   "execution_count": 7,
   "metadata": {},
   "outputs": [
    {
     "name": "stdout",
     "output_type": "stream",
     "text": [
      "{'name': 'john cena', 'class': '2nd', 'roll no': 21, 'marks': 90, 'school': 'SKD', 'Fathers name': 'Sam Cena'}\n"
     ]
    }
   ],
   "source": [
    "\n",
    "# to add items in a dictionary\n",
    "students['school']='SKD'\n",
    "students['Fathers name']='Sam Cena'\n",
    "print(students)"
   ]
  },
  {
   "cell_type": "code",
   "execution_count": 8,
   "metadata": {},
   "outputs": [
    {
     "name": "stdout",
     "output_type": "stream",
     "text": [
      "name\n",
      "class\n",
      "roll no\n",
      "marks\n",
      "school\n",
      "Fathers name\n"
     ]
    }
   ],
   "source": [
    "for key in students:\n",
    "    print(key)"
   ]
  },
  {
   "cell_type": "code",
   "execution_count": 9,
   "metadata": {},
   "outputs": [
    {
     "name": "stdout",
     "output_type": "stream",
     "text": [
      "name : john cena\n",
      "class : 2nd\n",
      "roll no : 21\n",
      "marks : 90\n",
      "school : SKD\n",
      "Fathers name : Sam Cena\n"
     ]
    }
   ],
   "source": [
    "for k,v in students.items():\n",
    "    print(f'{k} : {v}')"
   ]
  },
  {
   "cell_type": "code",
   "execution_count": 10,
   "metadata": {},
   "outputs": [
    {
     "name": "stdout",
     "output_type": "stream",
     "text": [
      "dict_keys(['name', 'class', 'roll no', 'marks', 'school', 'Fathers name'])\n",
      "dict_values(['john cena', '2nd', 21, 90, 'SKD', 'Sam Cena'])\n",
      "dict_items([('name', 'john cena'), ('class', '2nd'), ('roll no', 21), ('marks', 90), ('school', 'SKD'), ('Fathers name', 'Sam Cena')])\n"
     ]
    }
   ],
   "source": [
    "print(students.keys())\n",
    "print(students.values())\n",
    "print(students.items())"
   ]
  },
  {
   "cell_type": "code",
   "execution_count": 11,
   "metadata": {},
   "outputs": [
    {
     "name": "stdout",
     "output_type": "stream",
     "text": [
      "{'english': 67, 'hindi': 77, 'maths': 35, 'Science': 75, 's.st': 45}\n"
     ]
    }
   ],
   "source": [
    "raj_dict={\n",
    "    'english' : 67,\n",
    "    'hindi' : 77,\n",
    "    'maths' : 35,\n",
    "    'Science' : 75,\n",
    "    's.st' : 45\n",
    "}\n",
    "print(raj_dict)"
   ]
  },
  {
   "cell_type": "code",
   "execution_count": 15,
   "metadata": {},
   "outputs": [
    {
     "name": "stdout",
     "output_type": "stream",
     "text": [
      "{'emp001': {'name': 'john', 'age': 25, 'designation': 'Team  Leader', 'Salary': 32000}, 'emp002': {'name': 'sam', 'age': 22, 'designation': 'teacher', 'Salary': 28000}, 'emp003': {'name': 'aron', 'age': 29, 'designation': 'Data Analtics', 'Salary': 30000}}\n",
      "25\n"
     ]
    }
   ],
   "source": [
    "company= {\n",
    "    'emp001' : {\n",
    "        'name' : 'john',\n",
    "        'age' : 25,\n",
    "        'designation' : 'Team  Leader',\n",
    "        'Salary' : 32000\n",
    "    },\n",
    "    'emp002' : {\n",
    "        'name' : 'sam',\n",
    "        'age' : 22,\n",
    "        'designation' : 'teacher',\n",
    "        'Salary' : 28000\n",
    "    },\n",
    "    'emp003' : {\n",
    "        'name' : 'aron',\n",
    "        'age' : 29,\n",
    "        'designation' : 'Data Analtics',\n",
    "        'Salary' : 30000\n",
    "        }\n",
    "}\n",
    "print(company)\n",
    "print(company['emp001']['age'])"
   ]
  },
  {
   "cell_type": "code",
   "execution_count": 17,
   "metadata": {},
   "outputs": [
    {
     "name": "stdout",
     "output_type": "stream",
     "text": [
      "dict_keys(['emp001', 'emp002', 'emp003'])\n",
      "dict_values([{'name': 'john', 'age': 25, 'designation': 'Team  Leader', 'Salary': 32000}, {'name': 'sam', 'age': 22, 'designation': 'teacher', 'Salary': 28000}, {'name': 'aron', 'age': 29, 'designation': 'Data Analtics', 'Salary': 30000}])\n"
     ]
    }
   ],
   "source": [
    "print(company.keys())\n",
    "print(company.values())"
   ]
  },
  {
   "cell_type": "code",
   "execution_count": 18,
   "metadata": {},
   "outputs": [
    {
     "name": "stdout",
     "output_type": "stream",
     "text": [
      "emp001 : {'name': 'john', 'age': 25, 'designation': 'Team  Leader', 'Salary': 32000}\n",
      "emp002 : {'name': 'sam', 'age': 22, 'designation': 'teacher', 'Salary': 28000}\n",
      "emp003 : {'name': 'aron', 'age': 29, 'designation': 'Data Analtics', 'Salary': 30000}\n"
     ]
    }
   ],
   "source": [
    "for k,v in company.items():\n",
    "    print(f'{k} : {v}')"
   ]
  },
  {
   "cell_type": "code",
   "execution_count": null,
   "metadata": {},
   "outputs": [],
   "source": []
  }
 ],
 "metadata": {
  "kernelspec": {
   "display_name": "base",
   "language": "python",
   "name": "python3"
  },
  "language_info": {
   "codemirror_mode": {
    "name": "ipython",
    "version": 3
   },
   "file_extension": ".py",
   "mimetype": "text/x-python",
   "name": "python",
   "nbconvert_exporter": "python",
   "pygments_lexer": "ipython3",
   "version": "3.10.10"
  },
  "orig_nbformat": 4
 },
 "nbformat": 4,
 "nbformat_minor": 2
}
