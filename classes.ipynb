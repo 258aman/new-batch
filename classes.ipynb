{
 "cells": [
  {
   "cell_type": "code",
   "execution_count": null,
   "metadata": {},
   "outputs": [],
   "source": [
    "class Myclass: # declaring a class\n",
    "    x=5"
   ]
  },
  {
   "cell_type": "code",
   "execution_count": null,
   "metadata": {},
   "outputs": [],
   "source": [
    "p1=Myclass()  #Object creation\n",
    "print(p1.x) #calling an object"
   ]
  },
  {
   "cell_type": "code",
   "execution_count": null,
   "metadata": {},
   "outputs": [],
   "source": [
    "class Person:\n",
    "    def __init__(self,name,age): #constructor\n",
    "        self.name= name\n",
    "        self.age = age\n",
    "p1=Person('aman', 36)\n",
    "print(p1.name)\n",
    "print(p1.age)"
   ]
  },
  {
   "cell_type": "code",
   "execution_count": null,
   "metadata": {},
   "outputs": [],
   "source": [
    "class Dog:\n",
    "    def __init__(self,name,age):\n",
    "        self.name=name\n",
    "        self.age=age\n",
    "dog1 = Dog(\"Buddy\",3)\n",
    "dog2 = Dog(\"Max\",5)\n",
    "print(dog1.name, dog1.age)\n",
    "print(dog2.name, dog2.age) "
   ]
  },
  {
   "cell_type": "code",
   "execution_count": null,
   "metadata": {},
   "outputs": [],
   "source": [
    "class Person:\n",
    "    def __init__(self,name,age): #constructor\n",
    "        self.name= name\n",
    "        self.age = age\n",
    "    def myfunc(self):\n",
    "        print('hello my name is'+ self.name)\n",
    "        print(f'My age is {self.age}')\n",
    "p1=Person('aman', 25)\n",
    "p1.Myfunc()"
   ]
  }
 ],
 "metadata": {
  "kernelspec": {
   "display_name": "base",
   "language": "python",
   "name": "python3"
  },
  "language_info": {
   "name": "python",
   "version": "3.10.10"
  },
  "orig_nbformat": 4
 },
 "nbformat": 4,
 "nbformat_minor": 2
}
