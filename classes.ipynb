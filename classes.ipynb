{
 "cells": [
  {
   "cell_type": "code",
   "execution_count": 1,
   "metadata": {},
   "outputs": [],
   "source": [
    "class Myclass: # declaring a class\n",
    "    x=5"
   ]
  },
  {
   "cell_type": "code",
   "execution_count": 2,
   "metadata": {},
   "outputs": [
    {
     "name": "stdout",
     "output_type": "stream",
     "text": [
      "5\n"
     ]
    }
   ],
   "source": [
    "p1=Myclass()  #Object creation\n",
    "print(p1.x) #calling an object"
   ]
  },
  {
   "cell_type": "code",
   "execution_count": 3,
   "metadata": {},
   "outputs": [
    {
     "name": "stdout",
     "output_type": "stream",
     "text": [
      "aman\n",
      "36\n"
     ]
    }
   ],
   "source": [
    "class Person:\n",
    "    def __init__(self,name,age): #constructor\n",
    "        self.name= name\n",
    "        self.age = age\n",
    "p1=Person('aman', 36)\n",
    "print(p1.name)\n",
    "print(p1.age)"
   ]
  },
  {
   "cell_type": "code",
   "execution_count": 4,
   "metadata": {},
   "outputs": [
    {
     "name": "stdout",
     "output_type": "stream",
     "text": [
      "Buddy 3\n",
      "Max 5\n"
     ]
    }
   ],
   "source": [
    "class Dog:\n",
    "    def __init__(self,name,age):\n",
    "        self.name=name\n",
    "        self.age=age\n",
    "dog1 = Dog(\"Buddy\",3)\n",
    "dog2 = Dog(\"Max\",5)\n",
    "print(dog1.name, dog1.age)\n",
    "print(dog2.name, dog2.age) "
   ]
  },
  {
   "cell_type": "code",
   "execution_count": 5,
   "metadata": {},
   "outputs": [
    {
     "ename": "AttributeError",
     "evalue": "'Person' object has no attribute 'Myfunc'",
     "output_type": "error",
     "traceback": [
      "\u001b[1;31m---------------------------------------------------------------------------\u001b[0m",
      "\u001b[1;31mAttributeError\u001b[0m                            Traceback (most recent call last)",
      "Cell \u001b[1;32mIn[5], line 9\u001b[0m\n\u001b[0;32m      7\u001b[0m         \u001b[39mprint\u001b[39m(\u001b[39mf\u001b[39m\u001b[39m'\u001b[39m\u001b[39mMy age is \u001b[39m\u001b[39m{\u001b[39;00m\u001b[39mself\u001b[39m\u001b[39m.\u001b[39mage\u001b[39m}\u001b[39;00m\u001b[39m'\u001b[39m)\n\u001b[0;32m      8\u001b[0m p1\u001b[39m=\u001b[39mPerson(\u001b[39m'\u001b[39m\u001b[39maman\u001b[39m\u001b[39m'\u001b[39m, \u001b[39m25\u001b[39m)\n\u001b[1;32m----> 9\u001b[0m p1\u001b[39m.\u001b[39;49mMyfunc()\n",
      "\u001b[1;31mAttributeError\u001b[0m: 'Person' object has no attribute 'Myfunc'"
     ]
    }
   ],
   "source": [
    "class Person:\n",
    "    def __init__(self,name,age): #constructor\n",
    "        self.name= name\n",
    "        self.age = age\n",
    "    def myfunc(self):\n",
    "        print('hello my name is'+ self.name)\n",
    "        print(f'My age is {self.age}')\n",
    "p1=Person('aman', 25)\n",
    "p1.Myfunc()"
   ]
  },
  {
   "attachments": {},
   "cell_type": "markdown",
   "metadata": {},
   "source": [
    "INHERITANCE\n"
   ]
  },
  {
   "cell_type": "code",
   "execution_count": 1,
   "metadata": {},
   "outputs": [
    {
     "name": "stdout",
     "output_type": "stream",
     "text": [
      "Buddysays woof!\n",
      "kittysays Meow!\n"
     ]
    }
   ],
   "source": [
    "#Parent class\n",
    "class Animal:\n",
    "    def __init__(self,name):\n",
    "        self.name=name\n",
    "     \n",
    "    def speak(self):\n",
    "        pass\n",
    "\n",
    "# child1 class\n",
    "class Dog(Animal):\n",
    "    def speak(self):\n",
    "        return f\"{self.name}says woof!\"\n",
    "\n",
    "# child2 class    \n",
    "class Cat(Animal):\n",
    "    def speak(self):\n",
    "        return f\"{self.name}says Meow!\"\n",
    "    \n",
    "#object CREATION\n",
    "dog=Dog(\"Buddy\")\n",
    "cat=Cat(\"kitty\")\n",
    "\n",
    "print(dog.speak())\n",
    "print(cat.speak())\n",
    "    \n",
    "    \n",
    "    "
   ]
  },
  {
   "cell_type": "code",
   "execution_count": 2,
   "metadata": {},
   "outputs": [
    {
     "name": "stdout",
     "output_type": "stream",
     "text": [
      "Buddysays woof!\n",
      "kittysays Meow!\n"
     ]
    }
   ],
   "source": [
    "#Parent class\n",
    "class Animal:\n",
    "    def __init__(self,name):\n",
    "        self.name=name\n",
    "     \n",
    "    def speak(self):\n",
    "        return\"This animal makes a sound\"\n",
    "\n",
    "# child1 class\n",
    "class Dog(Animal):\n",
    "    def speak(self):\n",
    "        return f\"{self.name}says woof!\"\n",
    "\n",
    "# child2 class    \n",
    "class Cat(Animal):\n",
    "    def speak(self):\n",
    "        return f\"{self.name}says Meow!\"\n",
    "    \n",
    "#object CREATION\n",
    "dog=Dog(\"Buddy\")\n",
    "cat=Cat(\"kitty\")\n",
    "\n",
    "print(dog.speak())\n",
    "print(cat.speak())"
   ]
  },
  {
   "cell_type": "code",
   "execution_count": 1,
   "metadata": {},
   "outputs": [
    {
     "name": "stdout",
     "output_type": "stream",
     "text": [
      "Hi, I'mRahul, I'm28 years old, and my employee Id is E2783\n",
      "Hi, I'mIsha, I'm35 years old, and i manage theFinanace\n"
     ]
    }
   ],
   "source": [
    "class Person:\n",
    "    def __init__(self, name, age):\n",
    "        self.name=name\n",
    "        self.age=age\n",
    "    def introduce(self):\n",
    "        return f\"Hi, I'm{self.name}, and I'm{self.age} years old\"\n",
    "    \n",
    "\n",
    "class Employee(Person):\n",
    "    def __init__(self, name, age, employee_id):\n",
    "        super().__init__(name, age)\n",
    "        self.employee_id = employee_id\n",
    "    \n",
    "    def introduce(self):\n",
    "        return f\"Hi, I'm{self.name}, I'm{self.age} years old, and my employee Id is {self.employee_id}\"\n",
    "class Manager(Person):\n",
    "    def __init__(self, name, age, department):\n",
    "        super().__init__(name, age)\n",
    "        self.dpartment = department\n",
    "    \n",
    "    def introduce(self):\n",
    "        return f\"Hi, I'm{self.name}, I'm{self.age} years old, and i manage the{self.dpartment}\"\n",
    "\n",
    "employee= Employee(\"Rahul\",28, \"E2783\")\n",
    "manager = Manager(\"Isha\", 35, \"Finanace\")\n",
    "\n",
    "print(employee.introduce())\n",
    "print(manager.introduce())"
   ]
  },
  {
   "cell_type": "code",
   "execution_count": null,
   "metadata": {},
   "outputs": [],
   "source": []
  }
 ],
 "metadata": {
  "kernelspec": {
   "display_name": "base",
   "language": "python",
   "name": "python3"
  },
  "language_info": {
   "codemirror_mode": {
    "name": "ipython",
    "version": 3
   },
   "file_extension": ".py",
   "mimetype": "text/x-python",
   "name": "python",
   "nbconvert_exporter": "python",
   "pygments_lexer": "ipython3",
   "version": "3.10.10"
  },
  "orig_nbformat": 4
 },
 "nbformat": 4,
 "nbformat_minor": 2
}
