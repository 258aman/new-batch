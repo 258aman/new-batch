{
 "cells": [
  {
   "cell_type": "code",
   "execution_count": 36,
   "metadata": {},
   "outputs": [],
   "source": [
    "import math "
   ]
  },
  {
   "cell_type": "code",
   "execution_count": 37,
   "metadata": {},
   "outputs": [
    {
     "name": "stdout",
     "output_type": "stream",
     "text": [
      "5.0\n",
      "120\n",
      "1.537243573680482\n",
      "1\n",
      "100\n",
      "3.141592653589793\n",
      "2.718281828459045\n",
      "0.1411200080598672\n"
     ]
    }
   ],
   "source": [
    "print(math.sqrt (25))\n",
    "print(math.factorial(5))\n",
    "print(math.log(100,20))\n",
    "print(math.gcd(100,3))\n",
    "print(math.lcm(100,20))\n",
    "print(math.pi)\n",
    "print(math.e)\n",
    "print(math.sin(3))"
   ]
  },
  {
   "cell_type": "code",
   "execution_count": 38,
   "metadata": {},
   "outputs": [],
   "source": [
    "from random import random,  randint, choice, shuffle"
   ]
  },
  {
   "cell_type": "code",
   "execution_count": 39,
   "metadata": {},
   "outputs": [
    {
     "name": "stdout",
     "output_type": "stream",
     "text": [
      "get a random number between 0 and 1: 0.751219891196578\n",
      "get a random number between 1 and 10: 2\n",
      "select a random item draw\n",
      "shuffle a list ['jack', 'jill', 'John', 'joe', 'jane']\n"
     ]
    }
   ],
   "source": [
    "print('get a random number between 0 and 1:', random())\n",
    "print('get a random number between 1 and 10:', randint(1,10))\n",
    "print('select a random item', choice(['win', 'lose','draw']))\n",
    "names=['John', 'jane','jack','jill', 'joe']\n",
    "shuffle(names)\n",
    "print('shuffle a list', names)"
   ]
  },
  {
   "cell_type": "code",
   "execution_count": 40,
   "metadata": {},
   "outputs": [],
   "source": [
    "from datetime import  datetime as dt"
   ]
  },
  {
   "cell_type": "code",
   "execution_count": 41,
   "metadata": {},
   "outputs": [
    {
     "name": "stdout",
     "output_type": "stream",
     "text": [
      "current: 2023-09-12 23:51:30.782735\n"
     ]
    }
   ],
   "source": [
    "print('current:', dt.now())"
   ]
  },
  {
   "cell_type": "code",
   "execution_count": 42,
   "metadata": {},
   "outputs": [
    {
     "name": "stdout",
     "output_type": "stream",
     "text": [
      "current date 2023-09-12\n",
      "current date 23:51:30.832703\n"
     ]
    }
   ],
   "source": [
    "print('current date', dt.now().date())\n",
    "print('current date', dt.now().time())"
   ]
  },
  {
   "cell_type": "code",
   "execution_count": 43,
   "metadata": {},
   "outputs": [
    {
     "name": "stdout",
     "output_type": "stream",
     "text": [
      "current year 2023\n",
      "current month 9\n",
      "current day 12\n",
      "current hour 23\n",
      "current second 30\n"
     ]
    }
   ],
   "source": [
    "print('current year', dt.now().year)\n",
    "print('current month', dt.now().month)\n",
    "print('current day' , dt.now().day)\n",
    "print('current hour', dt.now().hour)\n",
    "print('current second', dt.now().second)"
   ]
  },
  {
   "cell_type": "code",
   "execution_count": 44,
   "metadata": {},
   "outputs": [
    {
     "name": "stdout",
     "output_type": "stream",
     "text": [
      "formatted date: 12/09/2023\n"
     ]
    }
   ],
   "source": [
    "date = dt.strftime(dt.now(), '%d/%m/%Y')\n",
    "print('formatted date:', date)"
   ]
  },
  {
   "cell_type": "code",
   "execution_count": 45,
   "metadata": {},
   "outputs": [
    {
     "name": "stdout",
     "output_type": "stream",
     "text": [
      "formatted time 23:51:31\n"
     ]
    }
   ],
   "source": [
    "time = dt.strftime(dt.now(), '%H:%M:%S')\n",
    "print('formatted time', time)"
   ]
  },
  {
   "cell_type": "code",
   "execution_count": 46,
   "metadata": {},
   "outputs": [],
   "source": [
    "import os # know about the folders files or directories"
   ]
  },
  {
   "cell_type": "code",
   "execution_count": 47,
   "metadata": {},
   "outputs": [
    {
     "name": "stdout",
     "output_type": "stream",
     "text": [
      "current Folder c:\\Users\\siddhant new ac\\Desktop\\new batch\\new batch\n"
     ]
    }
   ],
   "source": [
    "print('current Folder', os.getcwd())"
   ]
  },
  {
   "cell_type": "code",
   "execution_count": 48,
   "metadata": {},
   "outputs": [
    {
     "name": "stdout",
     "output_type": "stream",
     "text": [
      "['.git', 'assignment.ipynb', 'classes.ipynb', 'conditons exercise.ipynb', 'dict.ipynb', 'function.ipynb', 'game2.py', 'lamda.ipynb', 'libararies.ipynb', 'list.ipynb', 'question.ipynb']\n"
     ]
    }
   ],
   "source": [
    "files = os.listdir() #list all files and folder of current working directory\n",
    "print(files)"
   ]
  },
  {
   "cell_type": "code",
   "execution_count": 49,
   "metadata": {},
   "outputs": [
    {
     "data": {
      "text/plain": [
       "<generator object _walk at 0x0000028DE1BC47B0>"
      ]
     },
     "execution_count": 49,
     "metadata": {},
     "output_type": "execute_result"
    }
   ],
   "source": [
    "os.walk('c') #walk through all folder and files"
   ]
  },
  {
   "cell_type": "code",
   "execution_count": 50,
   "metadata": {},
   "outputs": [
    {
     "ename": "SyntaxError",
     "evalue": "expected ':' (4114475506.py, line 2)",
     "output_type": "error",
     "traceback": [
      "\u001b[1;36m  Cell \u001b[1;32mIn[50], line 2\u001b[1;36m\u001b[0m\n\u001b[1;33m    for path, folders, files in os.walk(r'C:\\Users\\siddhant new ac\\Downloads')\u001b[0m\n\u001b[1;37m                                                                              ^\u001b[0m\n\u001b[1;31mSyntaxError\u001b[0m\u001b[1;31m:\u001b[0m expected ':'\n"
     ]
    }
   ],
   "source": [
    "total_file=0\n",
    "for path, folders, files in os.walk(r'C:\\Users\\siddhant new ac\\Downloads')\n",
    "print('=>', path)\n",
    "print('folders')\n",
    "total_files += len(files)"
   ]
  },
  {
   "cell_type": "code",
   "execution_count": 52,
   "metadata": {},
   "outputs": [
    {
     "name": "stdout",
     "output_type": "stream",
     "text": [
      "file exist\n"
     ]
    }
   ],
   "source": [
    "file = r'C:\\Users\\siddhant new ac\\Downloads'\n",
    "if os.path.exists(file):\n",
    "    print('file exist')\n"
   ]
  },
  {
   "cell_type": "code",
   "execution_count": 53,
   "metadata": {},
   "outputs": [
    {
     "name": "stdout",
     "output_type": "stream",
     "text": [
      "file exist\n",
      "size in bytes: 12288\n",
      "size in kilobytes: 12.0\n",
      "size in megabytes: 0.01171875\n",
      "size in gigabytes: 1.1444091796875e-05\n"
     ]
    }
   ],
   "source": [
    "file=r\"C:\\Users\\siddhant new ac\"\n",
    "if os.path.exists(file):\n",
    "    print('file exist')\n",
    "    size=os.path.getsize(file)\n",
    "    print('size in bytes:', size)\n",
    "    print('size in kilobytes:', size/1024)\n",
    "    print('size in megabytes:', size/(1024*1024))\n",
    "    print('size in gigabytes:', size/(1024*1024*1024))"
   ]
  },
  {
   "cell_type": "code",
   "execution_count": null,
   "metadata": {},
   "outputs": [],
   "source": []
  }
 ],
 "metadata": {
  "kernelspec": {
   "display_name": "Python 3",
   "language": "python",
   "name": "python3"
  },
  "language_info": {
   "codemirror_mode": {
    "name": "ipython",
    "version": 3
   },
   "file_extension": ".py",
   "mimetype": "text/x-python",
   "name": "python",
   "nbconvert_exporter": "python",
   "pygments_lexer": "ipython3",
   "version": "3.10.10"
  },
  "orig_nbformat": 4
 },
 "nbformat": 4,
 "nbformat_minor": 2
}
