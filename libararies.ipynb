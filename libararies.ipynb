{
 "cells": [
  {
   "cell_type": "code",
   "execution_count": 41,
   "metadata": {},
   "outputs": [],
   "source": [
    "import math "
   ]
  },
  {
   "cell_type": "code",
   "execution_count": 42,
   "metadata": {},
   "outputs": [
    {
     "name": "stdout",
     "output_type": "stream",
     "text": [
      "5.0\n",
      "120\n",
      "1.537243573680482\n",
      "1\n",
      "100\n",
      "3.141592653589793\n",
      "2.718281828459045\n",
      "0.1411200080598672\n"
     ]
    }
   ],
   "source": [
    "print(math.sqrt (25))\n",
    "print(math.factorial(5))\n",
    "print(math.log(100,20))\n",
    "print(math.gcd(100,3))\n",
    "print(math.lcm(100,20))\n",
    "print(math.pi)\n",
    "print(math.e)\n",
    "print(math.sin(3))"
   ]
  },
  {
   "cell_type": "code",
   "execution_count": 43,
   "metadata": {},
   "outputs": [],
   "source": [
    "from random import random,  randint, choice, shuffle"
   ]
  },
  {
   "cell_type": "code",
   "execution_count": 44,
   "metadata": {},
   "outputs": [
    {
     "name": "stdout",
     "output_type": "stream",
     "text": [
      "get a random number between 0 and 1: 0.9218384192012129\n",
      "get a random number between 1 and 10: 7\n",
      "select a random item draw\n",
      "shuffle a list ['joe', 'jane', 'jill', 'John', 'jack']\n"
     ]
    }
   ],
   "source": [
    "print('get a random number between 0 and 1:', random())\n",
    "print('get a random number between 1 and 10:', randint(1,10))\n",
    "print('select a random item', choice(['win', 'lose','draw']))\n",
    "names=['John', 'jane','jack','jill', 'joe']\n",
    "shuffle(names)\n",
    "print('shuffle a list', names)"
   ]
  },
  {
   "cell_type": "code",
   "execution_count": 45,
   "metadata": {},
   "outputs": [],
   "source": [
    "from datetime import  datetime as dt"
   ]
  },
  {
   "cell_type": "code",
   "execution_count": 46,
   "metadata": {},
   "outputs": [
    {
     "name": "stdout",
     "output_type": "stream",
     "text": [
      "current: 2023-09-11 07:31:15.980143\n"
     ]
    }
   ],
   "source": [
    "print('current:', dt.now())"
   ]
  },
  {
   "cell_type": "code",
   "execution_count": 47,
   "metadata": {},
   "outputs": [
    {
     "name": "stdout",
     "output_type": "stream",
     "text": [
      "current date 2023-09-11\n",
      "current date 07:31:16.062091\n"
     ]
    }
   ],
   "source": [
    "print('current date', dt.now().date())\n",
    "print('current date', dt.now().time())"
   ]
  },
  {
   "cell_type": "code",
   "execution_count": 51,
   "metadata": {},
   "outputs": [
    {
     "name": "stdout",
     "output_type": "stream",
     "text": [
      "current year 2023\n",
      "current month 9\n",
      "current day 11\n",
      "current hour 7\n",
      "current second 51\n"
     ]
    }
   ],
   "source": [
    "print('current year', dt.now().year)\n",
    "print('current month', dt.now().month)\n",
    "print('current day' , dt.now().day)\n",
    "print('current hour', dt.now().hour)\n",
    "print('current second', dt.now().second)"
   ]
  },
  {
   "cell_type": "code",
   "execution_count": 52,
   "metadata": {},
   "outputs": [
    {
     "name": "stdout",
     "output_type": "stream",
     "text": [
      "formatted date: 11/09/2023\n"
     ]
    }
   ],
   "source": [
    "date = dt.strftime(dt.now(), '%d/%m/%Y')\n",
    "print('formatted date:', date)"
   ]
  },
  {
   "cell_type": "code",
   "execution_count": 53,
   "metadata": {},
   "outputs": [
    {
     "name": "stdout",
     "output_type": "stream",
     "text": [
      "formatted time 07:39:24\n"
     ]
    }
   ],
   "source": [
    "time = dt.strftime(dt.now(), '%H:%M:%S')\n",
    "print('formatted time', time)"
   ]
  },
  {
   "cell_type": "code",
   "execution_count": 54,
   "metadata": {},
   "outputs": [],
   "source": [
    "import os # know about the folders files or directories"
   ]
  },
  {
   "cell_type": "code",
   "execution_count": 55,
   "metadata": {},
   "outputs": [
    {
     "name": "stdout",
     "output_type": "stream",
     "text": [
      "current Folder c:\\Users\\siddhant new ac\\Desktop\\new batch\n"
     ]
    }
   ],
   "source": [
    "print('current Folder', os.getcwd())"
   ]
  },
  {
   "cell_type": "code",
   "execution_count": 56,
   "metadata": {},
   "outputs": [
    {
     "name": "stdout",
     "output_type": "stream",
     "text": [
      "['.git', 'assignment.ipynb', 'classes.ipynb', 'conditons exercise.ipynb', 'dict.ipynb', 'function.ipynb', 'game2.py', 'lamda.ipynb', 'libararies.ipynb', 'list.ipynb', 'question.ipynb']\n"
     ]
    }
   ],
   "source": [
    "files = os.listdir() #list all files and folder of current working directory\n",
    "print(files)"
   ]
  },
  {
   "cell_type": "code",
   "execution_count": null,
   "metadata": {},
   "outputs": [],
   "source": [
    "files=os.listdir('')"
   ]
  }
 ],
 "metadata": {
  "kernelspec": {
   "display_name": "Python 3",
   "language": "python",
   "name": "python3"
  },
  "language_info": {
   "codemirror_mode": {
    "name": "ipython",
    "version": 3
   },
   "file_extension": ".py",
   "mimetype": "text/x-python",
   "name": "python",
   "nbconvert_exporter": "python",
   "pygments_lexer": "ipython3",
   "version": "3.10.10"
  },
  "orig_nbformat": 4
 },
 "nbformat": 4,
 "nbformat_minor": 2
}
