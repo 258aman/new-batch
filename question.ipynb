{
 "cells": [
  {
   "cell_type": "code",
   "execution_count": 6,
   "metadata": {},
   "outputs": [
    {
     "name": "stdout",
     "output_type": "stream",
     "text": [
      "even [24, 25, 11, 3, 41, 44, 45, 96, 74, 44, 51, 63, 7]\n",
      "odd [24, 25, 11, 3, 41, 44, 45, 96, 74, 44, 51, 63, 7]\n",
      "odd [24, 25, 11, 3, 41, 44, 45, 96, 74, 44, 51, 63, 7]\n",
      "odd [24, 25, 11, 3, 41, 44, 45, 96, 74, 44, 51, 63, 7]\n",
      "odd [24, 25, 11, 3, 41, 44, 45, 96, 74, 44, 51, 63, 7]\n",
      "even [24, 25, 11, 3, 41, 44, 45, 96, 74, 44, 51, 63, 7]\n",
      "odd [24, 25, 11, 3, 41, 44, 45, 96, 74, 44, 51, 63, 7]\n",
      "even [24, 25, 11, 3, 41, 44, 45, 96, 74, 44, 51, 63, 7]\n",
      "even [24, 25, 11, 3, 41, 44, 45, 96, 74, 44, 51, 63, 7]\n",
      "even [24, 25, 11, 3, 41, 44, 45, 96, 74, 44, 51, 63, 7]\n",
      "odd [24, 25, 11, 3, 41, 44, 45, 96, 74, 44, 51, 63, 7]\n",
      "odd [24, 25, 11, 3, 41, 44, 45, 96, 74, 44, 51, 63, 7]\n",
      "odd [24, 25, 11, 3, 41, 44, 45, 96, 74, 44, 51, 63, 7]\n"
     ]
    }
   ],
   "source": [
    "# wap a program\n",
    "num=[24,25,11,3,41,44,45,96,74,44,51,63,7,]\n",
    "for i in num:\n",
    "    if i%2==0:\n",
    "        print(f{even},{i})\n",
    "    else :\n",
    "        print('odd',num)  "
   ]
  },
  {
   "cell_type": "code",
   "execution_count": 11,
   "metadata": {},
   "outputs": [
    {
     "name": "stdout",
     "output_type": "stream",
     "text": [
      "24 25 11 3 41 44 45 96 74 44 51 "
     ]
    }
   ],
   "source": [
    "num=[24,25,11,3,41,44,45,96,74,44,51,0,63,7]\n",
    "for i in num:\n",
    "    if i==0:\n",
    "        break\n",
    "    print(i,end=\" \")\n"
   ]
  },
  {
   "cell_type": "code",
   "execution_count": 13,
   "metadata": {},
   "outputs": [
    {
     "name": "stdout",
     "output_type": "stream",
     "text": [
      "Arya is good student\n",
      "Danish is good student\n",
      "akash is good student\n",
      "lokesh is most talktaktve person in the class\n"
     ]
    }
   ],
   "source": [
    "students=['Arya','Danish','akash','lokesh','Siddhant','anshuman']\n",
    "for student in students:\n",
    "    if student==\"lokesh\":\n",
    "        print('lokesh is most talktaktve person in the class')\n",
    "        break\n",
    "    print(f\"{student} is good student\")"
   ]
  },
  {
   "cell_type": "code",
   "execution_count": 15,
   "metadata": {},
   "outputs": [
    {
     "name": "stdout",
     "output_type": "stream",
     "text": [
      "2 5 4 6 7 3 6 4 7 0 4 3 7 5 "
     ]
    }
   ],
   "source": [
    "a=[2,5,4,6,7,3,6,8,9,4,7,9,0,4,3,7,5]\n",
    "for i in a:\n",
    "    if i==8 or i==9:\n",
    "        continue\n",
    "    print(i, end=\" \")"
   ]
  },
  {
   "cell_type": "code",
   "execution_count": 18,
   "metadata": {},
   "outputs": [
    {
     "name": "stdout",
     "output_type": "stream",
     "text": [
      "1 2 3 5 1 2 23 3 11 2 2 3 "
     ]
    }
   ],
   "source": [
    "x=[1,2,3,None,5,1,None,2,23,None,3,11,2,2,3,None]\n",
    "for num in x:\n",
    "    if num is None:\n",
    "        continue\n",
    "    print(num,end=\" \")"
   ]
  },
  {
   "cell_type": "code",
   "execution_count": 20,
   "metadata": {},
   "outputs": [
    {
     "name": "stdout",
     "output_type": "stream",
     "text": [
      "50\n"
     ]
    }
   ],
   "source": [
    "odd_sum=0\n",
    "for num in x:\n",
    "    if num is not None and num%2!=0:\n",
    "        odd_sum+=num\n",
    "print(odd_sum)"
   ]
  },
  {
   "cell_type": "code",
   "execution_count": 22,
   "metadata": {},
   "outputs": [
    {
     "name": "stdout",
     "output_type": "stream",
     "text": [
      "1:['john', 'bob', 'alice', 'Mary']\n",
      "2:['john', 'bob', 'alice', 'Mary']\n",
      "3:['john', 'bob', 'alice', 'Mary']\n",
      "4:['john', 'bob', 'alice', 'Mary']\n"
     ]
    }
   ],
   "source": [
    "names=['john','bob','alice','Mary']\n",
    "for idx, name in enumerate(names):\n",
    "    print(f'{idx+1}:{names}')"
   ]
  },
  {
   "cell_type": "code",
   "execution_count": 24,
   "metadata": {},
   "outputs": [
    {
     "name": "stdout",
     "output_type": "stream",
     "text": [
      "12\n",
      "28\n",
      "39\n",
      "61\n",
      "67\n",
      "47\n",
      "22\n",
      "51\n",
      "52\n"
     ]
    }
   ],
   "source": [
    "x=[2,4,5,7,9,8,4,7,8]\n",
    "y=[4,5,6,8,7,5,4,7,6]\n",
    "z=[4,8,9,5,4,7,6,2,4]\n",
    "for i,j,k in zip(x,y,z):\n",
    "    print(i*j+k)"
   ]
  },
  {
   "cell_type": "code",
   "execution_count": 25,
   "metadata": {},
   "outputs": [
    {
     "name": "stdout",
     "output_type": "stream",
     "text": [
      "Interseller has a rating 8😁\n",
      "The martin has a rating 6😁\n",
      "Gravity has a rating 8😁\n"
     ]
    }
   ],
   "source": [
    "movies=['Interseller','The martin','Gravity']\n",
    "rating=[8,6,8,7,7,6]\n",
    "\n",
    "for name,star in zip(movies,rating):\n",
    "    print(f'{name} has a rating {star}😁')"
   ]
  },
  {
   "cell_type": "code",
   "execution_count": null,
   "metadata": {},
   "outputs": [],
   "source": []
  }
 ],
 "metadata": {
  "kernelspec": {
   "display_name": "base",
   "language": "python",
   "name": "python3"
  },
  "language_info": {
   "codemirror_mode": {
    "name": "ipython",
    "version": 3
   },
   "file_extension": ".py",
   "mimetype": "text/x-python",
   "name": "python",
   "nbconvert_exporter": "python",
   "pygments_lexer": "ipython3",
   "version": "3.10.10"
  },
  "orig_nbformat": 4
 },
 "nbformat": 4,
 "nbformat_minor": 2
}
