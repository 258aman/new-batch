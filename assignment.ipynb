{
 "cells": [
  {
   "cell_type": "markdown",
   "metadata": {},
   "source": [
    "2. WAP to enter the shape fom the user and calculate its area. (Hint : “R” for rectangle, “C” for circle etc.)"
   ]
  },
  {
   "cell_type": "code",
   "execution_count": 1,
   "metadata": {},
   "outputs": [
    {
     "name": "stdout",
     "output_type": "stream",
     "text": [
      "87.92\n"
     ]
    }
   ],
   "source": [
    "choice = input('shapes, 1. circle 2. rectangle :')\n",
    "if choice=='circle':\n",
    "    Radius=int(input('Radius'))\n",
    "    pie=3.14\n",
    "    area=2*pie*Radius\n",
    "    \n",
    "\n",
    "elif choice=='rectangle':\n",
    "    length=int(input('Length'))\n",
    "    bredth=int(input('bredth'))\n",
    "    area=length*bredth\n",
    "   \n",
    "print(area)"
   ]
  },
  {
   "cell_type": "markdown",
   "metadata": {},
   "source": [
    "3. WAP to calculate the pythagorus theorem (Using match case)."
   ]
  },
  {
   "cell_type": "code",
   "execution_count": 3,
   "metadata": {},
   "outputs": [
    {
     "name": "stdout",
     "output_type": "stream",
     "text": [
      "17.69180601295413\n"
     ]
    }
   ],
   "source": [
    "B=int(input('base'))\n",
    "P=int(input('perpendicular'))\n",
    "H=(B**2+P**2)\n",
    "H**=0.5\n",
    "print(H)"
   ]
  },
  {
   "cell_type": "markdown",
   "metadata": {},
   "source": [
    "4. WAP to find out whether a number is prime or not"
   ]
  },
  {
   "cell_type": "code",
   "execution_count": 4,
   "metadata": {},
   "outputs": [
    {
     "name": "stdout",
     "output_type": "stream",
     "text": [
      "Prime\n"
     ]
    }
   ],
   "source": [
    "num = 17\n",
    "\n",
    "p = 0\n",
    "\n",
    "for i in range(2, num):\n",
    "    if num%i ==0:\n",
    "        p = 1\n",
    "\n",
    "if p == 1:\n",
    "    print(\"Not prime\")\n",
    "else:\n",
    "    print(\"Prime\")"
   ]
  },
  {
   "cell_type": "markdown",
   "metadata": {},
   "source": [
    "5. WAP to find out whether a year entered by user is a leap year or not."
   ]
  },
  {
   "cell_type": "code",
   "execution_count": 6,
   "metadata": {},
   "outputs": [
    {
     "name": "stdout",
     "output_type": "stream",
     "text": [
      "year is leap year\n"
     ]
    }
   ],
   "source": [
    "Year = int(input(\"Enter the number:\")) \n",
    "if(Year % 400 == 0) or (Year % 4==0):\n",
    "     print('year is leap year')\n",
    "else:\n",
    "     print('This is not a leap year')"
   ]
  },
  {
   "cell_type": "markdown",
   "metadata": {},
   "source": [
    "7. WAP to print the table of number eneterd by the user.\n"
   ]
  },
  {
   "cell_type": "code",
   "execution_count": 7,
   "metadata": {},
   "outputs": [
    {
     "name": "stdout",
     "output_type": "stream",
     "text": [
      "The multiplication number table of 15\n",
      "15 x = 15\n",
      "15 x = 30\n",
      "15 x = 45\n",
      "15 x = 60\n",
      "15 x = 75\n",
      "15 x = 90\n",
      "15 x = 105\n",
      "15 x = 120\n",
      "15 x = 135\n",
      "15 x = 150\n"
     ]
    }
   ],
   "source": [
    "number=int(input('enter the multiplication'))\n",
    "count=1\n",
    "print('The multiplication number table of',number)\n",
    "while count<=10: \n",
    "    number=number*1\n",
    "    print(number,'x','=',number*count)\n",
    "    count+=1"
   ]
  },
  {
   "cell_type": "markdown",
   "metadata": {},
   "source": [
    "WAP to take a list of 10 positive integers, calculate the square of each integer and print it on a separate line."
   ]
  },
  {
   "cell_type": "code",
   "execution_count": 8,
   "metadata": {},
   "outputs": [
    {
     "name": "stdout",
     "output_type": "stream",
     "text": [
      "[4, 25, 16, 49, 64, 81, 16, 25, 36]\n"
     ]
    }
   ],
   "source": [
    "mylist = []\n",
    "sum=0\n",
    "for i in range(1, 10):\n",
    "    mylist.append(int(input('enter a number'))**2)\n",
    "print(mylist)"
   ]
  },
  {
   "cell_type": "markdown",
   "metadata": {},
   "source": [
    "10. Enter a string from the user and check whether it’s a DAY or MONTH. If it’s a month then also print the total number of days in that particular month."
   ]
  },
  {
   "cell_type": "code",
   "execution_count": 9,
   "metadata": {},
   "outputs": [
    {
     "name": "stdout",
     "output_type": "stream",
     "text": [
      "cold\n"
     ]
    }
   ],
   "source": [
    "tem=int(input('value of temperature'))\n",
    "if tem<=10:\n",
    "    print('very cold')\n",
    "elif tem<=20:\n",
    "    print('cold')\n",
    "elif tem<=30:\n",
    "    print('hot')\n",
    "elif tem<=40:\n",
    "    print('very hot')\n",
    "else: \n",
    "    print('temperature is not defined')"
   ]
  }
 ],
 "metadata": {
  "kernelspec": {
   "display_name": "base",
   "language": "python",
   "name": "python3"
  },
  "language_info": {
   "codemirror_mode": {
    "name": "ipython",
    "version": 3
   },
   "file_extension": ".py",
   "mimetype": "text/x-python",
   "name": "python",
   "nbconvert_exporter": "python",
   "pygments_lexer": "ipython3",
   "version": "3.10.10"
  },
  "orig_nbformat": 4
 },
 "nbformat": 4,
 "nbformat_minor": 2
}
