{
 "cells": [
  {
   "cell_type": "code",
   "execution_count": 12,
   "metadata": {},
   "outputs": [
    {
     "name": "stdout",
     "output_type": "stream",
     "text": [
      "terabox\n",
      "['truecaller', 'chrome', 'weather']\n",
      "['vidmate', 'phonebook', 'chrome']\n",
      "['camera', 'terabox', 'weather', 'chrome', 'truecaller', 'phonebook', 'editor', 'vidmate', 'Opera', 'uc browser']\n",
      "['camera']\n"
     ]
    }
   ],
   "source": [
    "apps=['uc browser', 'Opera', 'vidmate', 'editor', 'phonebook', 'truecaller', 'chrome','weather','terabox', 'camera']\n",
    "print(apps[8])\n",
    "print(apps[5:8])\n",
    "print(apps[2:7:2])\n",
    "print(apps[::-1])\n",
    "print(apps[-1:])"
   ]
  },
  {
   "cell_type": "code",
   "execution_count": 13,
   "metadata": {},
   "outputs": [
    {
     "name": "stdout",
     "output_type": "stream",
     "text": [
      "['uc browser', 'Opera', 'vidmate', 'editor', 'phonebook', 'ullu', 'chrome', 'weather', 'terabox', 'camera']\n"
     ]
    }
   ],
   "source": [
    "apps[5]=\"ullu\"\n",
    "print(apps)"
   ]
  },
  {
   "cell_type": "code",
   "execution_count": 14,
   "metadata": {},
   "outputs": [
    {
     "name": "stdout",
     "output_type": "stream",
     "text": [
      "['uc browser', 'Opera', 'vidmate', 'editor', 'phonebook', 'truecaller', 'chrome', 'weather', 'terabox', 'camera', 'jai ram']\n"
     ]
    }
   ],
   "source": [
    "apps=['uc browser', 'Opera', 'vidmate', 'editor', 'phonebook', 'truecaller', 'chrome','weather','terabox', 'camera']\n",
    "apps.append('jai ram')\n",
    "print(apps)"
   ]
  },
  {
   "cell_type": "code",
   "execution_count": null,
   "metadata": {},
   "outputs": [],
   "source": []
  }
 ],
 "metadata": {
  "kernelspec": {
   "display_name": "base",
   "language": "python",
   "name": "python3"
  },
  "language_info": {
   "codemirror_mode": {
    "name": "ipython",
    "version": 3
   },
   "file_extension": ".py",
   "mimetype": "text/x-python",
   "name": "python",
   "nbconvert_exporter": "python",
   "pygments_lexer": "ipython3",
   "version": "3.10.10"
  },
  "orig_nbformat": 4
 },
 "nbformat": 4,
 "nbformat_minor": 2
}
