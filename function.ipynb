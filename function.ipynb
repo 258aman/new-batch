{
 "cells": [
  {
   "cell_type": "markdown",
   "metadata": {},
   "source": [
    "Types of fuctions\n",
    "- User defined function\n",
    "- built in fuctions\n",
    "- parameterized function\n",
    "- Non-Parameterized function"
   ]
  },
  {
   "cell_type": "code",
   "execution_count": 4,
   "metadata": {},
   "outputs": [],
   "source": [
    "def greet():   # function intialising  \n",
    "    print('hello')\n",
    "    print('Good morning')\n",
    "    print('How r u')\n",
    "    print('i am fine,thankyou')"
   ]
  },
  {
   "cell_type": "code",
   "execution_count": 5,
   "metadata": {},
   "outputs": [
    {
     "name": "stdout",
     "output_type": "stream",
     "text": [
      "hello\n",
      "Good morning\n",
      "How r u\n",
      "i am fine,thankyou\n"
     ]
    }
   ],
   "source": [
    "greet()  # function calling"
   ]
  },
  {
   "cell_type": "code",
   "execution_count": 6,
   "metadata": {},
   "outputs": [
    {
     "name": "stdout",
     "output_type": "stream",
     "text": [
      "hello world!\n"
     ]
    }
   ],
   "source": [
    "def greetings():\n",
    "    print('hello world!')\n",
    "\n",
    "greetings()"
   ]
  },
  {
   "cell_type": "code",
   "execution_count": 8,
   "metadata": {},
   "outputs": [
    {
     "name": "stdout",
     "output_type": "stream",
     "text": [
      "8\n"
     ]
    }
   ],
   "source": [
    "def add(num1, num2): #paramerters arguments\n",
    "    sum= num1 + num2\n",
    "    print(sum)\n",
    "add(3, 5)  #Arguments"
   ]
  },
  {
   "cell_type": "code",
   "execution_count": 9,
   "metadata": {},
   "outputs": [
    {
     "name": "stdout",
     "output_type": "stream",
     "text": [
      "8\n"
     ]
    }
   ],
   "source": [
    "def add(num1, num2): #paramerters arguments\n",
    "    sum= num1 + num2\n",
    "    print(sum)\n",
    "add(num1=3,  num2=5)  #Arguments"
   ]
  },
  {
   "cell_type": "code",
   "execution_count": 12,
   "metadata": {},
   "outputs": [],
   "source": [
    "def my_name(name):\n",
    "    return f'hello! {name}'"
   ]
  },
  {
   "cell_type": "code",
   "execution_count": 14,
   "metadata": {},
   "outputs": [
    {
     "data": {
      "text/plain": [
       "'hello! Siddhant'"
      ]
     },
     "execution_count": 14,
     "metadata": {},
     "output_type": "execute_result"
    }
   ],
   "source": [
    "name='Siddhant'\n",
    "my_name(name)\n"
   ]
  },
  {
   "cell_type": "code",
   "execution_count": 17,
   "metadata": {},
   "outputs": [
    {
     "name": "stdout",
     "output_type": "stream",
     "text": [
      "9\n"
     ]
    }
   ],
   "source": [
    "def square(num1): #paramerters arguments\n",
    "    i = num1**2\n",
    "    print(i)\n",
    "square(3)  "
   ]
  },
  {
   "cell_type": "code",
   "execution_count": 18,
   "metadata": {},
   "outputs": [
    {
     "name": "stdout",
     "output_type": "stream",
     "text": [
      "16\n"
     ]
    }
   ],
   "source": [
    "def add(num1, num2, num3): \n",
    "    sum= num1 + num2 + num3\n",
    "    print(sum)\n",
    "add(num1=3,  num2=5, num3=8)  "
   ]
  },
  {
   "cell_type": "code",
   "execution_count": 19,
   "metadata": {},
   "outputs": [
    {
     "data": {
      "text/plain": [
       "('welcome', 'to', 'Digipodium')"
      ]
     },
     "execution_count": 19,
     "metadata": {},
     "output_type": "execute_result"
    }
   ],
   "source": [
    "def my_fun():\n",
    "    return 'welcome' , 'to', 'Digipodium'\n",
    "my_fun()"
   ]
  },
  {
   "cell_type": "code",
   "execution_count": 21,
   "metadata": {},
   "outputs": [
    {
     "name": "stdout",
     "output_type": "stream",
     "text": [
      "welcome\n",
      "to\n",
      "Digipodium\n",
      "welcometoDigipodium\n"
     ]
    }
   ],
   "source": [
    "a,b,c=my_fun()\n",
    "print(a)\n",
    "print(b)\n",
    "print(c)\n",
    "print(f'{a}{b}{c}')"
   ]
  },
  {
   "cell_type": "code",
   "execution_count": 24,
   "metadata": {},
   "outputs": [
    {
     "name": "stdout",
     "output_type": "stream",
     "text": [
      "Area of rectangle: 12\n"
     ]
    }
   ],
   "source": [
    "def rec_area(num1,num2):\n",
    "    return num1*num2\n",
    "\n",
    "rec=rec_area(num1=2, num2=6)\n",
    "print('Area of rectangle:', rec)"
   ]
  },
  {
   "cell_type": "markdown",
   "metadata": {},
   "source": [
    "Question\n",
    "- check even or odd\n",
    "- convert temperature celcius to fahrenhit\n",
    "-  find maximum of two numbers\n",
    "- calculate factorial\n",
    "- Reverse a strings\n",
    "- count vowels in a string\n",
    "- calculate BMI(boday mass index)"
   ]
  },
  {
   "cell_type": "code",
   "execution_count": null,
   "metadata": {},
   "outputs": [],
   "source": []
  }
 ],
 "metadata": {
  "kernelspec": {
   "display_name": "base",
   "language": "python",
   "name": "python3"
  },
  "language_info": {
   "codemirror_mode": {
    "name": "ipython",
    "version": 3
   },
   "file_extension": ".py",
   "mimetype": "text/x-python",
   "name": "python",
   "nbconvert_exporter": "python",
   "pygments_lexer": "ipython3",
   "version": "3.10.10"
  },
  "orig_nbformat": 4
 },
 "nbformat": 4,
 "nbformat_minor": 2
}
